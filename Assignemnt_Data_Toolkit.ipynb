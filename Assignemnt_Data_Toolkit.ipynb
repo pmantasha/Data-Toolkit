{
  "nbformat": 4,
  "nbformat_minor": 0,
  "metadata": {
    "colab": {
      "provenance": []
    },
    "kernelspec": {
      "name": "python3",
      "display_name": "Python 3"
    },
    "language_info": {
      "name": "python"
    }
  },
  "cells": [
    {
      "cell_type": "markdown",
      "source": [
        "#Data Toolkit:"
      ],
      "metadata": {
        "id": "0BrXQHa_lvsV"
      }
    },
    {
      "cell_type": "markdown",
      "source": [
        "#Theory:-"
      ],
      "metadata": {
        "id": "a5II36Abl5MN"
      }
    },
    {
      "cell_type": "markdown",
      "source": [
        "#1. What is NumPy, and why is it widely used in Python?\n",
        " - NumPy (Numerical Python) is a powerful library in Python that provides support for large, multi-dimensional arrays and matrices, along with a collection of mathematical functions to operate on these arrays. It is widely used because it offers fast and efficient operations for numerical computations, with optimized performance for large data sets. NumPy also serves as the foundation for many other scientific libraries, such as SciPy and pandas. Its ability to handle vectorized operations and broadcasting makes it essential for data analysis, machine learning, and scientific computing.\n",
        "\n",
        "#2.  How does broadcasting work in NumPy?\n",
        " - In NumPy, broadcasting refers to the ability of NumPy to automatically expand the dimensions of arrays to perform element-wise operations on arrays of different shapes. When performing operations between arrays with different shapes, NumPy \"broadcasts\" the smaller array over the larger one by replicating its values along the missing dimensions, so they have compatible shapes.\n",
        "\n",
        "  For broadcasting to work, the following rules must be satisfied:\n",
        "\n",
        "  A. The dimensions of the arrays must be compatible (either they are the same or one of them is 1).\n",
        "\n",
        "  B. If the arrays have different shapes, NumPy adds 1 to the shape of the smaller array on the left side until both shapes are the same length.\n",
        "\n",
        "  C. Broadcasting is applied when the shapes of the arrays align, and NumPy can replicate the smaller array along the extra dimensions to match the shape of the larger one.\n",
        "\n",
        "  This allows for efficient and concise operations without the need to explicitly resize arrays.\n",
        "\n",
        "#3. What is a Pandas DataFrame?\n",
        " - A Pandas DataFrame is a two-dimensional, size-mutable, and potentially heterogeneous tabular data structure in Python. It can store data of different types (e.g., integers, floats, strings) in columns, similar to a spreadsheet or SQL table. DataFrames allow for efficient manipulation, analysis, and cleaning of data, with built-in functions for indexing, selecting, filtering, grouping, and aggregating data. They are one of the core structures in the Pandas library, widely used in data analysis and data science.\n",
        "\n",
        "#4. Explain the use of the groupby() method in Pandas.\n",
        " - The groupby() method in Pandas is used to group data based on one or more columns and then apply aggregate functions (like sum, mean, count) to each group. It helps in performing operations on subsets of data, facilitating data summarization and transformation.\n",
        "\n",
        "  The general process involves:\n",
        "\n",
        "     a. Splitting: The data is divided into groups based on specified column(s).\n",
        "\n",
        "     b. Applying: A function (e.g., aggregation or transformation) is applied to each group.\n",
        "\n",
        "     c. Combining: The results from each group are combined back into a DataFrame or Series.\n",
        "\n",
        "  Common use cases include computing statistics for each group, such as the average sales per store or total sales per region.\n",
        "\n",
        "#5. Why is Seaborn preferred for statistical visualizations?\n",
        " - Seaborn is preferred for statistical visualizations because it provides a high-level interface for drawing attractive and informative statistical graphics. It is built on top of Matplotlib and integrates seamlessly with Pandas DataFrames, allowing for easy plotting of complex statistical relationships. Seaborn offers built-in functions for common tasks like plotting distributions, correlations, and categorical data, while also automatically handling aspects like color palettes, axes labeling, and data aggregation. This makes it easier to create clear, aesthetically pleasing, and insightful visualizations with minimal code.\n",
        "\n",
        "#6. What are the differences between NumPy arrays and Python lists?\n",
        " - The main differences between NumPy arrays and Python lists are:\n",
        "\n",
        "    a. Performance: NumPy arrays are more efficient in terms of memory and performance. They are implemented in C, which allows for faster element-wise operations and handling large datasets compared to Python lists.\n",
        "\n",
        "    b. Homogeneity: NumPy arrays require elements to be of the same type (e.g., all integers or all floats), while Python lists can hold elements of different types (e.g., integers, strings, and objects).\n",
        "\n",
        "    c. Functionality: NumPy arrays support a wide range of mathematical and array-specific operations (like matrix multiplication, element-wise operations, and broadcasting), whereas Python lists lack such capabilities and require additional libraries for similar functionality.\n",
        "\n",
        "    d. Size: NumPy arrays are fixed-size, while Python lists are dynamic and can grow or shrink in size as needed.\n",
        "\n",
        "    e. Memory Usage: NumPy arrays are more memory-efficient as they store data in contiguous blocks of memory, whereas Python lists use pointers and can have overhead for each element.\n",
        "\n",
        "#7. What is a heatmap, and when should it be used?\n",
        " - A heatmap is a data visualization that uses color gradients to represent the values of a matrix or a 2D dataset. Each cell's color corresponds to a specific value, making it easy to observe patterns, correlations, or trends in the data.\n",
        "\n",
        "   When to use a heatmap:\n",
        "\n",
        "   a. To visualize correlations between multiple variables in a dataset (e.g., a correlation matrix).\n",
        "\n",
        "   b. To display intensity or density of values in large datasets (e.g., in gene expression data or geographical distributions).\n",
        "\n",
        "   c. When we want to highlight relationships between two dimensions in data, where color-coded patterns can quickly reveal significant trends or clusters.\n",
        "\n",
        "   Heatmaps are commonly used in fields like data science, machine learning, and bioinformatics.\n",
        "\n",
        "#8. What does the term “vectorized operation” mean in NumPy?\n",
        " - A vectorized operation in NumPy refers to the ability to perform element-wise operations on entire arrays (or large data structures) without the need for explicit loops. Instead, operations are applied to the entire array or its slices in a single, efficient step, leveraging optimized low-level implementations.\n",
        "\n",
        " This results in faster execution as NumPy internally uses highly optimized C code to perform operations, making vectorized operations much more efficient than traditional Python loops for large datasets. Examples include adding, multiplying, or performing mathematical functions directly on arrays.\n",
        "\n",
        "#9. How does Matplotlib differ from Plotly?\n",
        " - Matplotlib and Plotly are both popular Python libraries for data visualization, but they differ in several key aspects:\n",
        "\n",
        "  A. Interactivity:\n",
        "\n",
        "   - Matplotlib: Primarily used for static plots. While basic interactivity is possible (e.g., zooming, panning), it's limited.\n",
        "\n",
        "   - Plotly: Designed for interactive visualizations. It allows users to zoom, pan, hover over elements for more details, and dynamically update plots.\n",
        "\n",
        "  B. Ease of Use:\n",
        "\n",
        "   - Matplotlib: Offers a lot of customization and control over plot appearance but can require more code for creating complex, interactive visualizations.\n",
        "\n",
        "   - Plotly: Provides high-level functions that make it easier to create complex, interactive visualizations with less code.\n",
        "\n",
        "  C. Output:\n",
        "\n",
        "   - Matplotlib: Primarily generates static images (e.g., PNG, SVG) or basic interactive figures in Jupyter Notebooks.\n",
        "\n",
        "   - Plotly: Generates interactive web-based plots that can be easily embedded in websites or shared as HTML files.\n",
        "\n",
        "  D. Appearance:\n",
        "\n",
        "   - Matplotlib: Requires more manual adjustment for aesthetic fine-tuning.\n",
        "\n",
        "   - Plotly: Produces visually appealing plots by default with modern, polished aesthetics.\n",
        "\n",
        "   Plotly is ideal for web-based interactive visualizations, while Matplotlib is more suited for static, publication-quality graphics.\n",
        "\n",
        "#10. What is the significance of hierarchical indexing in Pandas?\n",
        " - Hierarchical indexing in Pandas allows for multiple levels of indexing on rows or columns, enabling more complex and flexible data structures. It is significant because it:\n",
        "\n",
        "  A. Simplifies multi-dimensional data representation: It allows us to represent high-dimensional data (like time series data with multiple levels) in a 2D DataFrame or Series.\n",
        "   \n",
        "  B. Improves data access: We can access and manipulate data using multiple index levels, making it easier to filter and aggregate data across different hierarchical levels.\n",
        "\n",
        "  C. Facilitates complex operations: Hierarchical indexing supports advanced operations such as groupby, reshaping, and pivoting, which are essential for analyzing nested or grouped data.\n",
        "\n",
        "  In short, it provides a powerful way to handle and analyze data with multiple categorical variables or dimensions.\n",
        "\n",
        "#11. What is the role of Seaborn’s pairplot() function?\n",
        " - Seaborn's pairplot() function is used to create a matrix of scatter plots for pairwise relationships between numerical variables in a dataset. It automatically generates a grid of plots where each plot shows the relationship between two variables, and the diagonal typically displays the distribution (e.g., histograms or KDE) of each variable.\n",
        "\n",
        "   Role and Use:\n",
        "\n",
        "   - It provides a quick, visual way to explore the relationships and correlations between multiple numerical features.\n",
        "\n",
        "   - Helps to identify patterns, trends, and potential outliers in the data.\n",
        "\n",
        "   - It can also visualize categorical data by coloring points according to different categories.\n",
        "\n",
        " pairplot() is useful for initial exploratory data analysis (EDA), especially when trying to understand the structure and relationships in a dataset.\n",
        "\n",
        "#12. What is the purpose of the describe() function in Pandas?\n",
        " - The describe() function in Pandas provides a quick summary of the statistical properties of numerical columns in a DataFrame or Series. It computes metrics such as:\n",
        "\n",
        "   a. Count: Number of non-null entries\n",
        "\n",
        "   b. Mean: Average value\n",
        "\n",
        "   c. Standard deviation: Measure of data spread\n",
        "\n",
        "   d. Min: Minimum value\n",
        "\n",
        "   e. 25th, 50th, and 75th percentiles: Interquartile range (Q1, median, Q3)\n",
        "\n",
        "   f. Max: Maximum value\n",
        "\n",
        "  It is commonly used in exploratory data analysis (EDA) to get an overview of the distribution and spread of data. For categorical data, describe() also shows the count, unique values, top (most frequent) value, and frequency of the top value.\n",
        "\n",
        "#13. Why is handling missing data important in Pandas?\n",
        " - Handling missing data in Pandas is important because it ensures the accuracy and reliability of your analysis. Missing data can lead to:\n",
        "\n",
        "   a. Incorrect Analysis: Incomplete data may result in biased or misleading conclusions if not properly handled.\n",
        "\n",
        "   b. Errors in Operations: Many Pandas functions and algorithms do not handle missing values well, which could lead to errors or unexpected behavior during data processing.\n",
        "\n",
        "   c. Data Integrity: Cleaning or filling missing data helps maintain the consistency and quality of your dataset, leading to more reliable models and insights.\n",
        "\n",
        "  Pandas provides several methods for handling missing data, such as dropna(), fillna(), and isna(), allowing for imputation or removal based on the context of the analysis.\n",
        "\n",
        "#14. What are the benefits of using Plotly for data visualization?\n",
        " - The benefits of using Plotly for data visualization include:\n",
        "\n",
        "  a. Interactivity: Plotly creates interactive plots that allow users to zoom, pan, hover for more details, and dynamically update visualizations.\n",
        "\n",
        "  b. Aesthetics: It produces high-quality, visually appealing graphics with modern designs by default, requiring less customization.\n",
        "\n",
        "  c. Flexibility: Supports a wide range of visualizations, including 3D plots, geographic maps, and complex statistical charts.\n",
        "\n",
        "  d. Ease of Use: Provides a simple API for creating complex visualizations with minimal code.\n",
        "\n",
        "  e. Web Integration: Plotly charts are easily embeddable in web applications, dashboards, and reports, supporting HTML output.\n",
        "\n",
        "  f. Cross-platform Compatibility: It works seamlessly with Jupyter Notebooks, Python scripts, and web-based platforms.\n",
        "\n",
        "  Overall, Plotly is ideal for creating interactive, web-friendly visualizations with rich functionality.\n",
        "\n",
        "#15. How does NumPy handle multidimensional arrays?\n",
        " - NumPy handles multidimensional arrays through its ndarray (n-dimensional array) object, which allows for efficient storage and manipulation of data in more than two dimensions.\n",
        "\n",
        "  Key features:\n",
        "\n",
        "  Shape and Size: Each ndarray has a shape attribute representing its dimensions (e.g., rows, columns, and depth), and a size attribute indicating the total number of elements.\n",
        "\n",
        "   a. Indexing: NumPy supports multi-dimensional indexing (using tuples or slices) to access elements across multiple axes, making it easy to extract or modify specific parts of the array.\n",
        "\n",
        "   b. Vectorized Operations: NumPy performs element-wise operations across all dimensions, leveraging efficient broadcasting and parallelization, which is much faster than traditional Python loops.\n",
        "\n",
        "   c. Axis Handling: Operations like sum, mean, or other aggregations can be performed along specific axes of the array.\n",
        "\n",
        "   This makes NumPy highly efficient for handling large datasets and performing mathematical operations on multi-dimensional arrays.\n",
        "\n",
        "#16. What is the role of Bokeh in data visualization?\n",
        " - Bokeh is a powerful Python library for creating interactive, web-ready visualizations. Its key role in data visualization includes:\n",
        "\n",
        "  a. Interactivity: Bokeh allows users to create dynamic plots with interactive features like zooming, panning, and hover tooltips.\n",
        "\n",
        "  b. Web Integration: It generates interactive plots that can be easily embedded into web applications or displayed in Jupyter Notebooks, making it ideal for dashboards and online reports.\n",
        "\n",
        "  c. High-Performance: Bokeh is designed to handle large datasets efficiently and render them quickly in the browser.\n",
        "\n",
        "  d. Customization: Offers a high degree of customization for visual appearance and interactivity, enabling the creation of complex visualizations.\n",
        "\n",
        "  e. Real-Time Streaming: It supports live data updates and real-time visualization, making it suitable for monitoring systems or live data analysis.\n",
        "\n",
        "  Overall, Bokeh is used to create sophisticated, interactive visualizations that can be easily shared or integrated into web-based applications.\n",
        "\n",
        "#17. Explain the difference between apply() and map() in Pandas.\n",
        " - In Pandas, apply() and map() are both used to apply functions to data, but they differ in their usage and flexibility:\n",
        "\n",
        "   A. apply():\n",
        "\n",
        "    - Usage: Can be used on both Series and DataFrames.\n",
        "\n",
        "    - Function: Applies a function along an axis (rows or columns for DataFrames) or to the entire Series.\n",
        "\n",
        "    - Flexibility: Allows for complex functions to be applied, including aggregation, transformation, or row/column-wise operations.\n",
        "\n",
        "    Example- df['column'].apply(lambda x: x * 2)\n",
        "\n",
        "  B. map():\n",
        "\n",
        "    - Usage: Primarily used for Series.\n",
        "\n",
        "    - Function: Applies a function element-wise to each value in the Series. It can also be used to map values using a dictionary, Series, or a function.\n",
        "\n",
        "    - Limitations: Works on a single Series and is generally simpler than apply().\n",
        "\n",
        "    Example- df['column'].map({1: 'A', 2: 'B'})\n",
        "\n",
        "#18. What are some advanced features of NumPy?\n",
        " - Some advanced features of NumPy include:\n",
        "\n",
        "   a. Broadcasting: Allows for element-wise operations on arrays with different shapes by automatically expanding the smaller array to match the larger one.\n",
        "\n",
        "   b. Vectorization: Enables fast, element-wise operations on arrays without explicit loops, leveraging optimized C and Fortran code for performance.\n",
        "\n",
        "   c. Advanced Indexing: Supports complex indexing techniques like boolean indexing, integer indexing, and slice manipulation, allowing for more flexible access to array elements.\n",
        "\n",
        "   d. Linear Algebra Functions: Provides built-in functions for linear algebra operations such as matrix multiplication, eigenvalue computation, and singular value decomposition (SVD).\n",
        "\n",
        "   e. Random Module: Includes a suite of random number generation functions for statistical simulations, sampling, and randomness testing.\n",
        "\n",
        "   f. Memory Management: Offers efficient handling of large datasets, with features like memory-mapped files to access data without loading it entirely into memory.\n",
        "\n",
        "   g. UFuncs (Universal Functions): Provides highly optimized functions that perform element-wise operations, including support for custom ufuncs for specialized operations.\n",
        "\n",
        "   These features make NumPy a powerful tool for scientific computing, data analysis, and machine learning.\n",
        "\n",
        "#19. How does Pandas simplify time series analysis?\n",
        " - Pandas simplifies time series analysis through several key features:\n",
        "\n",
        "   a. Datetime Indexing: It provides powerful support for datetime objects, enabling easy manipulation and access to data indexed by dates or times (e.g., daily, monthly, hourly data).\n",
        "\n",
        "   b. Resampling: Pandas allows for resampling time series data to different frequencies (e.g., converting daily data to monthly or yearly averages) using the resample() method.\n",
        "\n",
        "   c. Time-based Indexing and Slicing: You can slice data using specific date ranges, making it easy to access subsets of time series data.\n",
        "\n",
        "   d. Shifting and Lagging: Functions like shift() and tshift() allow you to shift or lag data for tasks like calculating rolling statistics or comparing values across time periods.\n",
        "\n",
        "   e. Rolling Window Operations: Pandas supports rolling computations (e.g., moving averages, sums) with the rolling() function.\n",
        "\n",
        "   f. Handling Missing Data: Pandas provides built-in methods like fillna() to handle missing data in time series efficiently.\n",
        "\n",
        "  These features make time series analysis more intuitive, efficient, and flexible in Pandas.\n",
        "\n",
        "#20. What is the role of a pivot table in Pandas.\n",
        " - A pivot table in Pandas is used to summarize and aggregate data in a flexible, tabular format. It allows you to reorganize data by grouping and performing aggregation functions (like sum, mean, count) based on one or more categorical variables. The result is a new DataFrame where:\n",
        "\n",
        "   a. Rows represent unique values from one column.\n",
        "\n",
        "   b. Columns represent unique values from another column.\n",
        "\n",
        "   c. Values are aggregated using specified functions.\n",
        "\n",
        "   Pivot tables are useful for quickly analyzing and comparing subsets of data, especially when working with large datasets and performing tasks like summarization or cross-tabulation.\n",
        "\n",
        "#21. Why is NumPy’s array slicing faster than Python’s list slicing?\n",
        " - NumPy’s array slicing is faster than Python’s list slicing because:\n",
        "\n",
        "   a. Contiguous Memory Allocation: NumPy arrays are stored in contiguous blocks of memory, allowing for more efficient access and manipulation of elements. This results in faster slicing since NumPy directly accesses the relevant memory locations.\n",
        "\n",
        "   b. Vectorization: NumPy operations, including slicing, are highly optimized and implemented in low-level languages like C, allowing for fast execution of array operations compared to Python’s list slicing, which is more generic and slower.\n",
        "\n",
        "   c. No Data Copying: When slicing a NumPy array, it returns a view (not a copy), meaning no new memory is allocated. In contrast, Python lists often create copies when sliced, which adds overhead.\n",
        "\n",
        "  These optimizations make NumPy array slicing significantly faster, especially with large datasets.\n",
        "\n",
        "#22. What are some common use cases for Seaborn?\n",
        " - Some common use cases for Seaborn include:\n",
        "\n",
        "   a. Statistical Data Visualization: Seaborn is ideal for creating visualizations that explore relationships between variables, such as scatter plots, line plots, and bar plots with built-in statistical capabilities.\n",
        "\n",
        "   b. Correlation Matrices: Seaborn’s heatmap() function is commonly used to visualize correlations between numerical variables, helping to identify patterns and relationships.\n",
        "\n",
        "   c. Distribution Plots: Seaborn makes it easy to visualize the distribution of data through histograms, KDE plots, and box plots, providing insights into data distribution and outliers.\n",
        "\n",
        "   d. Categorical Data Visualization: Seaborn provides specialized plots like boxplot(), violinplot(), and barplot() to analyze categorical data and compare distributions across different categories.\n",
        "\n",
        "   e. Pairwise Relationships: The pairplot() function is used to visualize relationships between multiple numerical variables in a dataset, helping to detect correlations and clusters.\n",
        "\n",
        "   f. Regression Plots: Seaborn’s lmplot() and regplot() help visualize linear relationships between variables and include regression lines, making it useful for statistical analysis.\n",
        "\n",
        "  Seaborn is widely used for exploratory data analysis (EDA) due to its ability to create attractive, informative, and easy-to-interpret plots with minimal code.\n",
        "\n",
        "\n",
        "\n"
      ],
      "metadata": {
        "id": "Z2yzGGrpmFk2"
      }
    },
    {
      "cell_type": "markdown",
      "source": [
        "#Practical:-"
      ],
      "metadata": {
        "id": "BwVsZf6ZzihT"
      }
    },
    {
      "cell_type": "code",
      "source": [
        "#1. How do you create a 2D NumPy array and calculate the sum of each row?"
      ],
      "metadata": {
        "id": "mbWdEPTPzlql"
      },
      "execution_count": null,
      "outputs": []
    },
    {
      "cell_type": "code",
      "source": [
        "#answer:-\n",
        "import numpy as np\n",
        "\n",
        "# Creating a 2D NumPy array\n",
        "arr = np.array([[1, 2, 3], [4, 5, 6], [7, 8, 9]])\n",
        "\n",
        "# Calculating the sum of each row\n",
        "row_sums = np.sum(arr, axis=1)\n",
        "\n",
        "print(row_sums)"
      ],
      "metadata": {
        "colab": {
          "base_uri": "https://localhost:8080/"
        },
        "id": "EDMGCDglzsFh",
        "outputId": "be767d11-658c-4963-e613-1f24feeb90f1"
      },
      "execution_count": 2,
      "outputs": [
        {
          "output_type": "stream",
          "name": "stdout",
          "text": [
            "[ 6 15 24]\n"
          ]
        }
      ]
    },
    {
      "cell_type": "code",
      "source": [
        "#2. Write a Pandas script to find the mean of a specific column in a DataFrame."
      ],
      "metadata": {
        "id": "FaADAnerzxxk"
      },
      "execution_count": null,
      "outputs": []
    },
    {
      "cell_type": "code",
      "source": [
        "#answer:-\n",
        "import pandas as pd\n",
        "\n",
        "# Creatinging a sample DataFrame\n",
        "data = {\n",
        "    'Name': ['Rahul', 'Priya', 'Ritika', 'Mantasha'],\n",
        "    'Age': [25, 35, 42, 40],\n",
        "    'Salary': [65000, 45000, 50000, 65000]\n",
        "}\n",
        "df = pd.DataFrame(data)\n",
        "\n",
        "# Calculating the mean of the 'Age' column\n",
        "mean_age = df['Age'].mean()\n",
        "\n",
        "# Printing the result\n",
        "print(\"Mean Age:\", mean_age)\n"
      ],
      "metadata": {
        "colab": {
          "base_uri": "https://localhost:8080/"
        },
        "id": "D1zstNNuz5P1",
        "outputId": "655baddd-4afb-4198-92c5-1aff31e532cd"
      },
      "execution_count": 5,
      "outputs": [
        {
          "output_type": "stream",
          "name": "stdout",
          "text": [
            "Mean Age: 35.5\n"
          ]
        }
      ]
    },
    {
      "cell_type": "code",
      "source": [
        "#3. Create a scatter plot using Matplotlib."
      ],
      "metadata": {
        "id": "T0VI6q690Lp6"
      },
      "execution_count": null,
      "outputs": []
    },
    {
      "cell_type": "code",
      "source": [
        "#answer:-\n",
        "import matplotlib.pyplot as plt\n",
        "\n",
        "# Sample data for the scatter plot\n",
        "x = [1, 2, 3, 4, 5]\n",
        "y = [2, 3, 5, 8, 10]\n",
        "\n",
        "# Creating the scatter plot\n",
        "plt.scatter(x, y)\n",
        "\n",
        "# Adding labels and title\n",
        "plt.xlabel('X-axis')\n",
        "plt.ylabel('Y-axis')\n",
        "plt.title('Sample Scatter Plot')\n",
        "\n",
        "# Display the plot\n",
        "plt.show()"
      ],
      "metadata": {
        "colab": {
          "base_uri": "https://localhost:8080/",
          "height": 472
        },
        "id": "N2rsTSUi0fs8",
        "outputId": "001bb079-427f-44df-a19c-3f0551900417"
      },
      "execution_count": 7,
      "outputs": [
        {
          "output_type": "display_data",
          "data": {
            "text/plain": [
              "<Figure size 640x480 with 1 Axes>"
            ],
            "image/png": "[encoded data removed]"
          },
          "metadata": {}
        }
      ]
    },
    {
      "cell_type": "code",
      "source": [
        "#4. How do you calculate the correlation matrix using Seaborn and visualize it with a heatmap?"
      ],
      "metadata": {
        "id": "-eDSTA8q0mGY"
      },
      "execution_count": null,
      "outputs": []
    },
    {
      "cell_type": "code",
      "source": [
        "#answer:-\n",
        "import seaborn as sns\n",
        "import matplotlib.pyplot as plt\n",
        "import pandas as pd\n",
        "\n",
        "# Sample DataFrame\n",
        "data = {\n",
        "    'A': [1, 2, 3, 4, 5],\n",
        "    'B': [5, 4, 3, 2, 1],\n",
        "    'C': [2, 3, 4, 5, 6],\n",
        "    'D': [9, 8, 7, 6, 5]\n",
        "}\n",
        "df = pd.DataFrame(data)\n",
        "\n",
        "# Calculating the correlation matrix\n",
        "correlation_matrix = df.corr()\n",
        "\n",
        "# Creating a heatmap of the correlation matrix\n",
        "sns.heatmap(correlation_matrix, annot=True, cmap='coolwarm', fmt='.2f', linewidths=0.5)\n",
        "\n",
        "# Adding title\n",
        "plt.title('Correlation Matrix Heatmap')\n",
        "\n",
        "# Display the plot\n",
        "plt.show()"
      ],
      "metadata": {
        "colab": {
          "base_uri": "https://localhost:8080/",
          "height": 452
        },
        "id": "ILxvDfuE002W",
        "outputId": "3fdbbf4e-8327-40c8-a27a-d5f0aa6439db"
      },
      "execution_count": 8,
      "outputs": [
        {
          "output_type": "display_data",
          "data": {
            "text/plain": [
              "<Figure size 640x480 with 2 Axes>"
            ],
            "image/png": "[encoded data removed]"
          },
          "metadata": {}
        }
      ]
    },
    {
      "cell_type": "code",
      "source": [
        "#5. Generate a bar plot using Plotly."
      ],
      "metadata": {
        "id": "qQFK2CEM1LfU"
      },
      "execution_count": null,
      "outputs": []
    },
    {
      "cell_type": "code",
      "source": [
        "#answer:-\n",
        "import plotly.express as px\n",
        "\n",
        "# Sample data\n",
        "data = {\n",
        "    'Category': ['A', 'B', 'C', 'D', 'E'],\n",
        "    'Value': [10, 15, 7, 12, 5]\n",
        "}\n",
        "\n",
        "# Creating a DataFrame\n",
        "import pandas as pd\n",
        "df = pd.DataFrame(data)\n",
        "\n",
        "# Creating a bar plot\n",
        "fig = px.bar(df, x='Category', y='Value', title='Bar Plot Example')\n",
        "\n",
        "# Show the plot\n",
        "fig.show()"
      ],
      "metadata": {
        "colab": {
          "base_uri": "https://localhost:8080/",
          "height": 542
        },
        "id": "gP_pVDz81EUY",
        "outputId": "b63b39c3-ee94-4163-f264-df710290d98d"
      },
      "execution_count": 11,
      "outputs": [
        {
          "output_type": "display_data",
          "data": {
            "text/html": [
              "<html>\n",
              "<head><meta charset=\"utf-8\" /></head>\n",
              "<body>\n",
              "    <div>            <script src=\"https://cdnjs.cloudflare.com/ajax/libs/mathjax/2.7.5/MathJax.js?config=TeX-AMS-MML_SVG\"></script><script type=\"text/javascript\">if (window.MathJax && window.MathJax.Hub && window.MathJax.Hub.Config) {window.MathJax.Hub.Config({SVG: {font: \"STIX-Web\"}});}</script>                <script type=\"text/javascript\">window.PlotlyConfig = {MathJaxConfig: 'local'};</script>\n",
              "        <script charset=\"utf-8\" src=\"https://cdn.plot.ly/plotly-2.35.2.min.js\"></script>                <div id=\"ad08a6a8-fb34-4f8c-b38a-f0a78755ed44\" class=\"plotly-graph-div\" style=\"height:525px; width:100%;\"></div>            <script type=\"text/javascript\">                                    window.PLOTLYENV=window.PLOTLYENV || {};                                    if (document.getElementById(\"ad08a6a8-fb34-4f8c-b38a-f0a78755ed44\")) {                    Plotly.newPlot(                        \"ad08a6a8-fb34-4f8c-b38a-f0a78755ed44\",                        [{\"alignmentgroup\":\"True\",\"hovertemplate\":\"Category=%{x}\\u003cbr\\u003eValue=%{y}\\u003cextra\\u003e\\u003c\\u002fextra\\u003e\",\"legendgroup\":\"\",\"marker\":{\"color\":\"#636efa\",\"pattern\":{\"shape\":\"\"}},\"name\":\"\",\"offsetgroup\":\"\",\"orientation\":\"v\",\"showlegend\":false,\"textposition\":\"auto\",\"x\":[\"A\",\"B\",\"C\",\"D\",\"E\"],\"xaxis\":\"x\",\"y\":[10,15,7,12,5],\"yaxis\":\"y\",\"type\":\"bar\"}],                        {\"template\":{\"data\":{\"histogram2dcontour\":[{\"type\":\"histogram2dcontour\",\"colorbar\":{\"outlinewidth\":0,\"ticks\":\"\"},\"colorscale\":[[0.0,\"#0d0887\"],[0.1111111111111111,\"#46039f\"],[0.2222222222222222,\"#7201a8\"],[0.3333333333333333,\"#9c179e\"],[0.4444444444444444,\"#bd3786\"],[0.5555555555555556,\"#d8576b\"],[0.6666666666666666,\"#ed7953\"],[0.7777777777777778,\"#fb9f3a\"],[0.8888888888888888,\"#fdca26\"],[1.0,\"#f0f921\"]]}],\"choropleth\":[{\"type\":\"choropleth\",\"colorbar\":{\"outlinewidth\":0,\"ticks\":\"\"}}],\"histogram2d\":[{\"type\":\"histogram2d\",\"colorbar\":{\"outlinewidth\":0,\"ticks\":\"\"},\"colorscale\":[[0.0,\"#0d0887\"],[0.1111111111111111,\"#46039f\"],[0.2222222222222222,\"#7201a8\"],[0.3333333333333333,\"#9c179e\"],[0.4444444444444444,\"#bd3786\"],[0.5555555555555556,\"#d8576b\"],[0.6666666666666666,\"#ed7953\"],[0.7777777777777778,\"#fb9f3a\"],[0.8888888888888888,\"#fdca26\"],[1.0,\"#f0f921\"]]}],\"heatmap\":[{\"type\":\"heatmap\",\"colorbar\":{\"outlinewidth\":0,\"ticks\":\"\"},\"colorscale\":[[0.0,\"#0d0887\"],[0.1111111111111111,\"#46039f\"],[0.2222222222222222,\"#7201a8\"],[0.3333333333333333,\"#9c179e\"],[0.4444444444444444,\"#bd3786\"],[0.5555555555555556,\"#d8576b\"],[0.6666666666666666,\"#ed7953\"],[0.7777777777777778,\"#fb9f3a\"],[0.8888888888888888,\"#fdca26\"],[1.0,\"#f0f921\"]]}],\"heatmapgl\":[{\"type\":\"heatmapgl\",\"colorbar\":{\"outlinewidth\":0,\"ticks\":\"\"},\"colorscale\":[[0.0,\"#0d0887\"],[0.1111111111111111,\"#46039f\"],[0.2222222222222222,\"#7201a8\"],[0.3333333333333333,\"#9c179e\"],[0.4444444444444444,\"#bd3786\"],[0.5555555555555556,\"#d8576b\"],[0.6666666666666666,\"#ed7953\"],[0.7777777777777778,\"#fb9f3a\"],[0.8888888888888888,\"#fdca26\"],[1.0,\"#f0f921\"]]}],\"contourcarpet\":[{\"type\":\"contourcarpet\",\"colorbar\":{\"outlinewidth\":0,\"ticks\":\"\"}}],\"contour\":[{\"type\":\"contour\",\"colorbar\":{\"outlinewidth\":0,\"ticks\":\"\"},\"colorscale\":[[0.0,\"#0d0887\"],[0.1111111111111111,\"#46039f\"],[0.2222222222222222,\"#7201a8\"],[0.3333333333333333,\"#9c179e\"],[0.4444444444444444,\"#bd3786\"],[0.5555555555555556,\"#d8576b\"],[0.6666666666666666,\"#ed7953\"],[0.7777777777777778,\"#fb9f3a\"],[0.8888888888888888,\"#fdca26\"],[1.0,\"#f0f921\"]]}],\"surface\":[{\"type\":\"surface\",\"colorbar\":{\"outlinewidth\":0,\"ticks\":\"\"},\"colorscale\":[[0.0,\"#0d0887\"],[0.1111111111111111,\"#46039f\"],[0.2222222222222222,\"#7201a8\"],[0.3333333333333333,\"#9c179e\"],[0.4444444444444444,\"#bd3786\"],[0.5555555555555556,\"#d8576b\"],[0.6666666666666666,\"#ed7953\"],[0.7777777777777778,\"#fb9f3a\"],[0.8888888888888888,\"#fdca26\"],[1.0,\"#f0f921\"]]}],\"mesh3d\":[{\"type\":\"mesh3d\",\"colorbar\":{\"outlinewidth\":0,\"ticks\":\"\"}}],\"scatter\":[{\"fillpattern\":{\"fillmode\":\"overlay\",\"size\":10,\"solidity\":0.2},\"type\":\"scatter\"}],\"parcoords\":[{\"type\":\"parcoords\",\"line\":{\"colorbar\":{\"outlinewidth\":0,\"ticks\":\"\"}}}],\"scatterpolargl\":[{\"type\":\"scatterpolargl\",\"marker\":{\"colorbar\":{\"outlinewidth\":0,\"ticks\":\"\"}}}],\"bar\":[{\"error_x\":{\"color\":\"#2a3f5f\"},\"error_y\":{\"color\":\"#2a3f5f\"},\"marker\":{\"line\":{\"color\":\"#E5ECF6\",\"width\":0.5},\"pattern\":{\"fillmode\":\"overlay\",\"size\":10,\"solidity\":0.2}},\"type\":\"bar\"}],\"scattergeo\":[{\"type\":\"scattergeo\",\"marker\":{\"colorbar\":{\"outlinewidth\":0,\"ticks\":\"\"}}}],\"scatterpolar\":[{\"type\":\"scatterpolar\",\"marker\":{\"colorbar\":{\"outlinewidth\":0,\"ticks\":\"\"}}}],\"histogram\":[{\"marker\":{\"pattern\":{\"fillmode\":\"overlay\",\"size\":10,\"solidity\":0.2}},\"type\":\"histogram\"}],\"scattergl\":[{\"type\":\"scattergl\",\"marker\":{\"colorbar\":{\"outlinewidth\":0,\"ticks\":\"\"}}}],\"scatter3d\":[{\"type\":\"scatter3d\",\"line\":{\"colorbar\":{\"outlinewidth\":0,\"ticks\":\"\"}},\"marker\":{\"colorbar\":{\"outlinewidth\":0,\"ticks\":\"\"}}}],\"scattermapbox\":[{\"type\":\"scattermapbox\",\"marker\":{\"colorbar\":{\"outlinewidth\":0,\"ticks\":\"\"}}}],\"scatterternary\":[{\"type\":\"scatterternary\",\"marker\":{\"colorbar\":{\"outlinewidth\":0,\"ticks\":\"\"}}}],\"scattercarpet\":[{\"type\":\"scattercarpet\",\"marker\":{\"colorbar\":{\"outlinewidth\":0,\"ticks\":\"\"}}}],\"carpet\":[{\"aaxis\":{\"endlinecolor\":\"#2a3f5f\",\"gridcolor\":\"white\",\"linecolor\":\"white\",\"minorgridcolor\":\"white\",\"startlinecolor\":\"#2a3f5f\"},\"baxis\":{\"endlinecolor\":\"#2a3f5f\",\"gridcolor\":\"white\",\"linecolor\":\"white\",\"minorgridcolor\":\"white\",\"startlinecolor\":\"#2a3f5f\"},\"type\":\"carpet\"}],\"table\":[{\"cells\":{\"fill\":{\"color\":\"#EBF0F8\"},\"line\":{\"color\":\"white\"}},\"header\":{\"fill\":{\"color\":\"#C8D4E3\"},\"line\":{\"color\":\"white\"}},\"type\":\"table\"}],\"barpolar\":[{\"marker\":{\"line\":{\"color\":\"#E5ECF6\",\"width\":0.5},\"pattern\":{\"fillmode\":\"overlay\",\"size\":10,\"solidity\":0.2}},\"type\":\"barpolar\"}],\"pie\":[{\"automargin\":true,\"type\":\"pie\"}]},\"layout\":{\"autotypenumbers\":\"strict\",\"colorway\":[\"#636efa\",\"#EF553B\",\"#00cc96\",\"#ab63fa\",\"#FFA15A\",\"#19d3f3\",\"#FF6692\",\"#B6E880\",\"#FF97FF\",\"#FECB52\"],\"font\":{\"color\":\"#2a3f5f\"},\"hovermode\":\"closest\",\"hoverlabel\":{\"align\":\"left\"},\"paper_bgcolor\":\"white\",\"plot_bgcolor\":\"#E5ECF6\",\"polar\":{\"bgcolor\":\"#E5ECF6\",\"angularaxis\":{\"gridcolor\":\"white\",\"linecolor\":\"white\",\"ticks\":\"\"},\"radialaxis\":{\"gridcolor\":\"white\",\"linecolor\":\"white\",\"ticks\":\"\"}},\"ternary\":{\"bgcolor\":\"#E5ECF6\",\"aaxis\":{\"gridcolor\":\"white\",\"linecolor\":\"white\",\"ticks\":\"\"},\"baxis\":{\"gridcolor\":\"white\",\"linecolor\":\"white\",\"ticks\":\"\"},\"caxis\":{\"gridcolor\":\"white\",\"linecolor\":\"white\",\"ticks\":\"\"}},\"coloraxis\":{\"colorbar\":{\"outlinewidth\":0,\"ticks\":\"\"}},\"colorscale\":{\"sequential\":[[0.0,\"#0d0887\"],[0.1111111111111111,\"#46039f\"],[0.2222222222222222,\"#7201a8\"],[0.3333333333333333,\"#9c179e\"],[0.4444444444444444,\"#bd3786\"],[0.5555555555555556,\"#d8576b\"],[0.6666666666666666,\"#ed7953\"],[0.7777777777777778,\"#fb9f3a\"],[0.8888888888888888,\"#fdca26\"],[1.0,\"#f0f921\"]],\"sequentialminus\":[[0.0,\"#0d0887\"],[0.1111111111111111,\"#46039f\"],[0.2222222222222222,\"#7201a8\"],[0.3333333333333333,\"#9c179e\"],[0.4444444444444444,\"#bd3786\"],[0.5555555555555556,\"#d8576b\"],[0.6666666666666666,\"#ed7953\"],[0.7777777777777778,\"#fb9f3a\"],[0.8888888888888888,\"#fdca26\"],[1.0,\"#f0f921\"]],\"diverging\":[[0,\"#8e0152\"],[0.1,\"#c51b7d\"],[0.2,\"#de77ae\"],[0.3,\"#f1b6da\"],[0.4,\"#fde0ef\"],[0.5,\"#f7f7f7\"],[0.6,\"#e6f5d0\"],[0.7,\"#b8e186\"],[0.8,\"#7fbc41\"],[0.9,\"#4d9221\"],[1,\"#276419\"]]},\"xaxis\":{\"gridcolor\":\"white\",\"linecolor\":\"white\",\"ticks\":\"\",\"title\":{\"standoff\":15},\"zerolinecolor\":\"white\",\"automargin\":true,\"zerolinewidth\":2},\"yaxis\":{\"gridcolor\":\"white\",\"linecolor\":\"white\",\"ticks\":\"\",\"title\":{\"standoff\":15},\"zerolinecolor\":\"white\",\"automargin\":true,\"zerolinewidth\":2},\"scene\":{\"xaxis\":{\"backgroundcolor\":\"#E5ECF6\",\"gridcolor\":\"white\",\"linecolor\":\"white\",\"showbackground\":true,\"ticks\":\"\",\"zerolinecolor\":\"white\",\"gridwidth\":2},\"yaxis\":{\"backgroundcolor\":\"#E5ECF6\",\"gridcolor\":\"white\",\"linecolor\":\"white\",\"showbackground\":true,\"ticks\":\"\",\"zerolinecolor\":\"white\",\"gridwidth\":2},\"zaxis\":{\"backgroundcolor\":\"#E5ECF6\",\"gridcolor\":\"white\",\"linecolor\":\"white\",\"showbackground\":true,\"ticks\":\"\",\"zerolinecolor\":\"white\",\"gridwidth\":2}},\"shapedefaults\":{\"line\":{\"color\":\"#2a3f5f\"}},\"annotationdefaults\":{\"arrowcolor\":\"#2a3f5f\",\"arrowhead\":0,\"arrowwidth\":1},\"geo\":{\"bgcolor\":\"white\",\"landcolor\":\"#E5ECF6\",\"subunitcolor\":\"white\",\"showland\":true,\"showlakes\":true,\"lakecolor\":\"white\"},\"title\":{\"x\":0.05},\"mapbox\":{\"style\":\"light\"}}},\"xaxis\":{\"anchor\":\"y\",\"domain\":[0.0,1.0],\"title\":{\"text\":\"Category\"}},\"yaxis\":{\"anchor\":\"x\",\"domain\":[0.0,1.0],\"title\":{\"text\":\"Value\"}},\"legend\":{\"tracegroupgap\":0},\"title\":{\"text\":\"Bar Plot Example\"},\"barmode\":\"relative\"},                        {\"responsive\": true}                    ).then(function(){\n",
              "                            \n",
              "var gd = document.getElementById('ad08a6a8-fb34-4f8c-b38a-f0a78755ed44');\n",
              "var x = new MutationObserver(function (mutations, observer) {{\n",
              "        var display = window.getComputedStyle(gd).display;\n",
              "        if (!display || display === 'none') {{\n",
              "            console.log([gd, 'removed!']);\n",
              "            Plotly.purge(gd);\n",
              "            observer.disconnect();\n",
              "        }}\n",
              "}});\n",
              "\n",
              "// Listen for the removal of the full notebook cells\n",
              "var notebookContainer = gd.closest('#notebook-container');\n",
              "if (notebookContainer) {{\n",
              "    x.observe(notebookContainer, {childList: true});\n",
              "}}\n",
              "\n",
              "// Listen for the clearing of the current output cell\n",
              "var outputEl = gd.closest('.output');\n",
              "if (outputEl) {{\n",
              "    x.observe(outputEl, {childList: true});\n",
              "}}\n",
              "\n",
              "                        })                };                            </script>        </div>\n",
              "</body>\n",
              "</html>"
            ]
          },
          "metadata": {}
        }
      ]
    },
    {
      "cell_type": "code",
      "source": [
        "#6. Create a DataFrame and add a new column based on an existing column."
      ],
      "metadata": {
        "id": "ybcOYxvk1VHt"
      },
      "execution_count": null,
      "outputs": []
    },
    {
      "cell_type": "code",
      "source": [
        "#answer:-\n",
        "import pandas as pd\n",
        "\n",
        "# Creating a sample DataFrame\n",
        "data = {\n",
        "    'Name': ['Alice', 'Bob', 'Charlie', 'David'],\n",
        "    'Age': [25, 30, 35, 40],\n",
        "    'Salary': [50000, 55000, 60000, 65000]\n",
        "}\n",
        "\n",
        "df = pd.DataFrame(data)\n",
        "\n",
        "# Adding a new column 'Age in 5 Years' based on the 'Age' column\n",
        "df['Age in 5 Years'] = df['Age'] + 5\n",
        "\n",
        "# Display the updated DataFrame\n",
        "print(df)\n"
      ],
      "metadata": {
        "colab": {
          "base_uri": "https://localhost:8080/"
        },
        "id": "QRfDahGb1hgO",
        "outputId": "a7e85f89-6743-4ad6-c7e6-ba5bc79df6ae"
      },
      "execution_count": 12,
      "outputs": [
        {
          "output_type": "stream",
          "name": "stdout",
          "text": [
            "      Name  Age  Salary  Age in 5 Years\n",
            "0    Alice   25   50000              30\n",
            "1      Bob   30   55000              35\n",
            "2  Charlie   35   60000              40\n",
            "3    David   40   65000              45\n"
          ]
        }
      ]
    },
    {
      "cell_type": "code",
      "source": [
        "#7. Write a program to perform element-wise multiplication of two NumPy arrays."
      ],
      "metadata": {
        "id": "PcU-GKFF1mfJ"
      },
      "execution_count": null,
      "outputs": []
    },
    {
      "cell_type": "code",
      "source": [
        "#answer:-\n",
        "import numpy as np\n",
        "\n",
        "# Creating two NumPy arrays\n",
        "array1 = np.array([1, 2, 3, 4])\n",
        "array2 = np.array([5, 6, 7, 8])\n",
        "\n",
        "# Perform element-wise multiplication\n",
        "result = array1 * array2\n",
        "\n",
        "# Display the result\n",
        "print(result)\n"
      ],
      "metadata": {
        "colab": {
          "base_uri": "https://localhost:8080/"
        },
        "id": "9h-da6su1s5w",
        "outputId": "1d2565ec-cb33-41ef-e08a-0f203b65d7cb"
      },
      "execution_count": 13,
      "outputs": [
        {
          "output_type": "stream",
          "name": "stdout",
          "text": [
            "[ 5 12 21 32]\n"
          ]
        }
      ]
    },
    {
      "cell_type": "code",
      "source": [
        "#8. Create a line plot with multiple lines using MatplotlibA."
      ],
      "metadata": {
        "id": "VB-aDen-1yi9"
      },
      "execution_count": null,
      "outputs": []
    },
    {
      "cell_type": "code",
      "source": [
        "#answer:-\n",
        "import matplotlib.pyplot as plt\n",
        "\n",
        "# Sample data for multiple lines\n",
        "x = [0, 1, 2, 3, 4]\n",
        "y1 = [0, 1, 4, 9, 16]\n",
        "y2 = [0, 1, 2, 3, 4]\n",
        "y3 = [0, -1, -2, -3, -4]\n",
        "\n",
        "# Creating the line plot with multiple lines\n",
        "plt.plot(x, y1, label='y = x^2', color='blue')\n",
        "plt.plot(x, y2, label='y = x', color='green')\n",
        "plt.plot(x, y3, label='y = -x', color='red')\n",
        "\n",
        "# Adding labels and title\n",
        "plt.xlabel('X-axis')\n",
        "plt.ylabel('Y-axis')\n",
        "plt.title('Line Plot with Multiple Lines')\n",
        "\n",
        "# Display a legend\n",
        "plt.legend()\n",
        "\n",
        "# Show the plot\n",
        "plt.show()\n"
      ],
      "metadata": {
        "colab": {
          "base_uri": "https://localhost:8080/",
          "height": 472
        },
        "id": "3DWgayKM14Jg",
        "outputId": "7da2edee-8dfe-49c7-e264-1d5e494e56e8"
      },
      "execution_count": 14,
      "outputs": [
        {
          "output_type": "display_data",
          "data": {
            "text/plain": [
              "<Figure size 640x480 with 1 Axes>"
            ],
            "image/png": "[encoded data removed]"
          },
          "metadata": {}
        }
      ]
    },
    {
      "cell_type": "code",
      "source": [
        "#9. Generate a Pandas DataFrame and filter rows where a column value is greater than a threshold."
      ],
      "metadata": {
        "id": "uUdiY7mI184u"
      },
      "execution_count": null,
      "outputs": []
    },
    {
      "cell_type": "code",
      "source": [
        "#answer:-\n",
        "import pandas as pd\n",
        "\n",
        "# Creating a sample DataFrame\n",
        "data = {\n",
        "    'Name': ['Alice', 'Bob', 'Charlie', 'David'],\n",
        "    'Age': [25, 30, 35, 40],\n",
        "    'Salary': [50000, 55000, 60000, 65000]\n",
        "}\n",
        "\n",
        "df = pd.DataFrame(data)\n",
        "\n",
        "# Setting the threshold value for filtering\n",
        "threshold = 60000\n",
        "\n",
        "# Filter rows where 'Salary' is greater than the threshold\n",
        "filtered_df = df[df['Salary'] > threshold]\n",
        "\n",
        "# Display the filtered DataFrame\n",
        "print(filtered_df)\n"
      ],
      "metadata": {
        "colab": {
          "base_uri": "https://localhost:8080/"
        },
        "id": "BsgPnTG62EfJ",
        "outputId": "01d3204b-6a54-4644-dc72-72814e63b383"
      },
      "execution_count": 15,
      "outputs": [
        {
          "output_type": "stream",
          "name": "stdout",
          "text": [
            "    Name  Age  Salary\n",
            "3  David   40   65000\n"
          ]
        }
      ]
    },
    {
      "cell_type": "code",
      "source": [
        "#10. Create a histogram using Seaborn to visualize a distribution."
      ],
      "metadata": {
        "id": "VLvh5F8_2LN2"
      },
      "execution_count": null,
      "outputs": []
    },
    {
      "cell_type": "code",
      "source": [
        "#answer:-\n",
        "import seaborn as sns\n",
        "import matplotlib.pyplot as plt\n",
        "\n",
        "# Sample data\n",
        "data = [1, 2, 2, 3, 3, 3, 4, 4, 4, 4, 5, 5, 5, 5, 5]\n",
        "\n",
        "# Creating a histogram\n",
        "sns.histplot(data, bins=5, kde=True, color='blue')\n",
        "\n",
        "# Adding labels and title\n",
        "plt.xlabel('Value')\n",
        "plt.ylabel('Frequency')\n",
        "plt.title('Histogram of Sample Data')\n",
        "\n",
        "# Display the plot\n",
        "plt.show()\n"
      ],
      "metadata": {
        "colab": {
          "base_uri": "https://localhost:8080/",
          "height": 472
        },
        "id": "mGuosXlO2c1u",
        "outputId": "8927a644-4cda-4da1-ae31-bb2a2f0bb9cd"
      },
      "execution_count": 16,
      "outputs": [
        {
          "output_type": "display_data",
          "data": {
            "text/plain": [
              "<Figure size 640x480 with 1 Axes>"
            ],
            "image/png": "[encoded data removed]"
          },
          "metadata": {}
        }
      ]
    },
    {
      "cell_type": "code",
      "source": [
        "#11. Perform matrix multiplication using NumPyA."
      ],
      "metadata": {
        "id": "49Us4eBe2hV6"
      },
      "execution_count": null,
      "outputs": []
    },
    {
      "cell_type": "code",
      "source": [
        "#answer:-\n",
        "import numpy as np\n",
        "\n",
        "# Create two matrices (2x3 and 3x2)\n",
        "matrix1 = np.array([[1, 2, 3], [4, 5, 6]])\n",
        "matrix2 = np.array([[7, 8], [9, 10], [11, 12]])\n",
        "\n",
        "# Perform matrix multiplication\n",
        "result = np.dot(matrix1, matrix2)\n",
        "\n",
        "# Alternatively, you can use the @ operator\n",
        "# result = matrix1 @ matrix2\n",
        "\n",
        "# Display the result\n",
        "print(result)\n"
      ],
      "metadata": {
        "colab": {
          "base_uri": "https://localhost:8080/"
        },
        "id": "uUIIxdn92xKD",
        "outputId": "57ef61ea-e6f1-4d0d-c6fd-8ba96d42cd76"
      },
      "execution_count": 17,
      "outputs": [
        {
          "output_type": "stream",
          "name": "stdout",
          "text": [
            "[[ 58  64]\n",
            " [139 154]]\n"
          ]
        }
      ]
    },
    {
      "cell_type": "code",
      "source": [
        "#12. Use Pandas to load a CSV file and display its first 5 rows."
      ],
      "metadata": {
        "id": "khfAEEgY20x6"
      },
      "execution_count": null,
      "outputs": []
    },
    {
      "cell_type": "code",
      "source": [
        "#13. Create a 3D scatter plot using Plotly."
      ],
      "metadata": {
        "id": "LFtD0ALL3-K6"
      },
      "execution_count": null,
      "outputs": []
    },
    {
      "cell_type": "code",
      "source": [
        "#answer:-\n",
        "import pandas as pd\n",
        "\n",
        "# Load a CSV file (replace 'your_file.csv' with the actual file path)\n",
        "df = pd.read_csv('Book1.csv')\n",
        "\n",
        "# Display the first 5 rows\n",
        "print(df.head())"
      ],
      "metadata": {
        "id": "nk1rCToj5SiB"
      },
      "execution_count": null,
      "outputs": []
    },
    {
      "cell_type": "code",
      "source": [
        "#answer:-\n",
        "import plotly.express as px\n",
        "import pandas as pd\n",
        "\n",
        "# Creating a sample DataFrame with 3D data\n",
        "data = {\n",
        "    'X': [1, 2, 3, 4, 5],\n",
        "    'Y': [5, 4, 3, 2, 1],\n",
        "    'Z': [2, 3, 4, 5, 6]\n",
        "}\n",
        "df = pd.DataFrame(data)\n",
        "\n",
        "# Creating a 3D scatter plot\n",
        "fig = px.scatter_3d(df, x='X', y='Y', z='Z', title='3D Scatter Plot')\n",
        "\n",
        "# Show the plot\n",
        "fig.show()\n"
      ],
      "metadata": {
        "colab": {
          "base_uri": "https://localhost:8080/",
          "height": 542
        },
        "id": "XPppcxOW4BzY",
        "outputId": "0e89d72c-c207-4357-e056-8afa444f5a5c"
      },
      "execution_count": 22,
      "outputs": [
        {
          "output_type": "display_data",
          "data": {
            "text/html": [
              "<html>\n",
              "<head><meta charset=\"utf-8\" /></head>\n",
              "<body>\n",
              "    <div>            <script src=\"https://cdnjs.cloudflare.com/ajax/libs/mathjax/2.7.5/MathJax.js?config=TeX-AMS-MML_SVG\"></script><script type=\"text/javascript\">if (window.MathJax && window.MathJax.Hub && window.MathJax.Hub.Config) {window.MathJax.Hub.Config({SVG: {font: \"STIX-Web\"}});}</script>                <script type=\"text/javascript\">window.PlotlyConfig = {MathJaxConfig: 'local'};</script>\n",
              "        <script charset=\"utf-8\" src=\"https://cdn.plot.ly/plotly-2.35.2.min.js\"></script>                <div id=\"71f8837a-cd1e-4df1-9038-952291db6fc8\" class=\"plotly-graph-div\" style=\"height:525px; width:100%;\"></div>            <script type=\"text/javascript\">                                    window.PLOTLYENV=window.PLOTLYENV || {};                                    if (document.getElementById(\"71f8837a-cd1e-4df1-9038-952291db6fc8\")) {                    Plotly.newPlot(                        \"71f8837a-cd1e-4df1-9038-952291db6fc8\",                        [{\"hovertemplate\":\"X=%{x}\\u003cbr\\u003eY=%{y}\\u003cbr\\u003eZ=%{z}\\u003cextra\\u003e\\u003c\\u002fextra\\u003e\",\"legendgroup\":\"\",\"marker\":{\"color\":\"#636efa\",\"symbol\":\"circle\"},\"mode\":\"markers\",\"name\":\"\",\"scene\":\"scene\",\"showlegend\":false,\"x\":[1,2,3,4,5],\"y\":[5,4,3,2,1],\"z\":[2,3,4,5,6],\"type\":\"scatter3d\"}],                        {\"template\":{\"data\":{\"histogram2dcontour\":[{\"type\":\"histogram2dcontour\",\"colorbar\":{\"outlinewidth\":0,\"ticks\":\"\"},\"colorscale\":[[0.0,\"#0d0887\"],[0.1111111111111111,\"#46039f\"],[0.2222222222222222,\"#7201a8\"],[0.3333333333333333,\"#9c179e\"],[0.4444444444444444,\"#bd3786\"],[0.5555555555555556,\"#d8576b\"],[0.6666666666666666,\"#ed7953\"],[0.7777777777777778,\"#fb9f3a\"],[0.8888888888888888,\"#fdca26\"],[1.0,\"#f0f921\"]]}],\"choropleth\":[{\"type\":\"choropleth\",\"colorbar\":{\"outlinewidth\":0,\"ticks\":\"\"}}],\"histogram2d\":[{\"type\":\"histogram2d\",\"colorbar\":{\"outlinewidth\":0,\"ticks\":\"\"},\"colorscale\":[[0.0,\"#0d0887\"],[0.1111111111111111,\"#46039f\"],[0.2222222222222222,\"#7201a8\"],[0.3333333333333333,\"#9c179e\"],[0.4444444444444444,\"#bd3786\"],[0.5555555555555556,\"#d8576b\"],[0.6666666666666666,\"#ed7953\"],[0.7777777777777778,\"#fb9f3a\"],[0.8888888888888888,\"#fdca26\"],[1.0,\"#f0f921\"]]}],\"heatmap\":[{\"type\":\"heatmap\",\"colorbar\":{\"outlinewidth\":0,\"ticks\":\"\"},\"colorscale\":[[0.0,\"#0d0887\"],[0.1111111111111111,\"#46039f\"],[0.2222222222222222,\"#7201a8\"],[0.3333333333333333,\"#9c179e\"],[0.4444444444444444,\"#bd3786\"],[0.5555555555555556,\"#d8576b\"],[0.6666666666666666,\"#ed7953\"],[0.7777777777777778,\"#fb9f3a\"],[0.8888888888888888,\"#fdca26\"],[1.0,\"#f0f921\"]]}],\"heatmapgl\":[{\"type\":\"heatmapgl\",\"colorbar\":{\"outlinewidth\":0,\"ticks\":\"\"},\"colorscale\":[[0.0,\"#0d0887\"],[0.1111111111111111,\"#46039f\"],[0.2222222222222222,\"#7201a8\"],[0.3333333333333333,\"#9c179e\"],[0.4444444444444444,\"#bd3786\"],[0.5555555555555556,\"#d8576b\"],[0.6666666666666666,\"#ed7953\"],[0.7777777777777778,\"#fb9f3a\"],[0.8888888888888888,\"#fdca26\"],[1.0,\"#f0f921\"]]}],\"contourcarpet\":[{\"type\":\"contourcarpet\",\"colorbar\":{\"outlinewidth\":0,\"ticks\":\"\"}}],\"contour\":[{\"type\":\"contour\",\"colorbar\":{\"outlinewidth\":0,\"ticks\":\"\"},\"colorscale\":[[0.0,\"#0d0887\"],[0.1111111111111111,\"#46039f\"],[0.2222222222222222,\"#7201a8\"],[0.3333333333333333,\"#9c179e\"],[0.4444444444444444,\"#bd3786\"],[0.5555555555555556,\"#d8576b\"],[0.6666666666666666,\"#ed7953\"],[0.7777777777777778,\"#fb9f3a\"],[0.8888888888888888,\"#fdca26\"],[1.0,\"#f0f921\"]]}],\"surface\":[{\"type\":\"surface\",\"colorbar\":{\"outlinewidth\":0,\"ticks\":\"\"},\"colorscale\":[[0.0,\"#0d0887\"],[0.1111111111111111,\"#46039f\"],[0.2222222222222222,\"#7201a8\"],[0.3333333333333333,\"#9c179e\"],[0.4444444444444444,\"#bd3786\"],[0.5555555555555556,\"#d8576b\"],[0.6666666666666666,\"#ed7953\"],[0.7777777777777778,\"#fb9f3a\"],[0.8888888888888888,\"#fdca26\"],[1.0,\"#f0f921\"]]}],\"mesh3d\":[{\"type\":\"mesh3d\",\"colorbar\":{\"outlinewidth\":0,\"ticks\":\"\"}}],\"scatter\":[{\"fillpattern\":{\"fillmode\":\"overlay\",\"size\":10,\"solidity\":0.2},\"type\":\"scatter\"}],\"parcoords\":[{\"type\":\"parcoords\",\"line\":{\"colorbar\":{\"outlinewidth\":0,\"ticks\":\"\"}}}],\"scatterpolargl\":[{\"type\":\"scatterpolargl\",\"marker\":{\"colorbar\":{\"outlinewidth\":0,\"ticks\":\"\"}}}],\"bar\":[{\"error_x\":{\"color\":\"#2a3f5f\"},\"error_y\":{\"color\":\"#2a3f5f\"},\"marker\":{\"line\":{\"color\":\"#E5ECF6\",\"width\":0.5},\"pattern\":{\"fillmode\":\"overlay\",\"size\":10,\"solidity\":0.2}},\"type\":\"bar\"}],\"scattergeo\":[{\"type\":\"scattergeo\",\"marker\":{\"colorbar\":{\"outlinewidth\":0,\"ticks\":\"\"}}}],\"scatterpolar\":[{\"type\":\"scatterpolar\",\"marker\":{\"colorbar\":{\"outlinewidth\":0,\"ticks\":\"\"}}}],\"histogram\":[{\"marker\":{\"pattern\":{\"fillmode\":\"overlay\",\"size\":10,\"solidity\":0.2}},\"type\":\"histogram\"}],\"scattergl\":[{\"type\":\"scattergl\",\"marker\":{\"colorbar\":{\"outlinewidth\":0,\"ticks\":\"\"}}}],\"scatter3d\":[{\"type\":\"scatter3d\",\"line\":{\"colorbar\":{\"outlinewidth\":0,\"ticks\":\"\"}},\"marker\":{\"colorbar\":{\"outlinewidth\":0,\"ticks\":\"\"}}}],\"scattermapbox\":[{\"type\":\"scattermapbox\",\"marker\":{\"colorbar\":{\"outlinewidth\":0,\"ticks\":\"\"}}}],\"scatterternary\":[{\"type\":\"scatterternary\",\"marker\":{\"colorbar\":{\"outlinewidth\":0,\"ticks\":\"\"}}}],\"scattercarpet\":[{\"type\":\"scattercarpet\",\"marker\":{\"colorbar\":{\"outlinewidth\":0,\"ticks\":\"\"}}}],\"carpet\":[{\"aaxis\":{\"endlinecolor\":\"#2a3f5f\",\"gridcolor\":\"white\",\"linecolor\":\"white\",\"minorgridcolor\":\"white\",\"startlinecolor\":\"#2a3f5f\"},\"baxis\":{\"endlinecolor\":\"#2a3f5f\",\"gridcolor\":\"white\",\"linecolor\":\"white\",\"minorgridcolor\":\"white\",\"startlinecolor\":\"#2a3f5f\"},\"type\":\"carpet\"}],\"table\":[{\"cells\":{\"fill\":{\"color\":\"#EBF0F8\"},\"line\":{\"color\":\"white\"}},\"header\":{\"fill\":{\"color\":\"#C8D4E3\"},\"line\":{\"color\":\"white\"}},\"type\":\"table\"}],\"barpolar\":[{\"marker\":{\"line\":{\"color\":\"#E5ECF6\",\"width\":0.5},\"pattern\":{\"fillmode\":\"overlay\",\"size\":10,\"solidity\":0.2}},\"type\":\"barpolar\"}],\"pie\":[{\"automargin\":true,\"type\":\"pie\"}]},\"layout\":{\"autotypenumbers\":\"strict\",\"colorway\":[\"#636efa\",\"#EF553B\",\"#00cc96\",\"#ab63fa\",\"#FFA15A\",\"#19d3f3\",\"#FF6692\",\"#B6E880\",\"#FF97FF\",\"#FECB52\"],\"font\":{\"color\":\"#2a3f5f\"},\"hovermode\":\"closest\",\"hoverlabel\":{\"align\":\"left\"},\"paper_bgcolor\":\"white\",\"plot_bgcolor\":\"#E5ECF6\",\"polar\":{\"bgcolor\":\"#E5ECF6\",\"angularaxis\":{\"gridcolor\":\"white\",\"linecolor\":\"white\",\"ticks\":\"\"},\"radialaxis\":{\"gridcolor\":\"white\",\"linecolor\":\"white\",\"ticks\":\"\"}},\"ternary\":{\"bgcolor\":\"#E5ECF6\",\"aaxis\":{\"gridcolor\":\"white\",\"linecolor\":\"white\",\"ticks\":\"\"},\"baxis\":{\"gridcolor\":\"white\",\"linecolor\":\"white\",\"ticks\":\"\"},\"caxis\":{\"gridcolor\":\"white\",\"linecolor\":\"white\",\"ticks\":\"\"}},\"coloraxis\":{\"colorbar\":{\"outlinewidth\":0,\"ticks\":\"\"}},\"colorscale\":{\"sequential\":[[0.0,\"#0d0887\"],[0.1111111111111111,\"#46039f\"],[0.2222222222222222,\"#7201a8\"],[0.3333333333333333,\"#9c179e\"],[0.4444444444444444,\"#bd3786\"],[0.5555555555555556,\"#d8576b\"],[0.6666666666666666,\"#ed7953\"],[0.7777777777777778,\"#fb9f3a\"],[0.8888888888888888,\"#fdca26\"],[1.0,\"#f0f921\"]],\"sequentialminus\":[[0.0,\"#0d0887\"],[0.1111111111111111,\"#46039f\"],[0.2222222222222222,\"#7201a8\"],[0.3333333333333333,\"#9c179e\"],[0.4444444444444444,\"#bd3786\"],[0.5555555555555556,\"#d8576b\"],[0.6666666666666666,\"#ed7953\"],[0.7777777777777778,\"#fb9f3a\"],[0.8888888888888888,\"#fdca26\"],[1.0,\"#f0f921\"]],\"diverging\":[[0,\"#8e0152\"],[0.1,\"#c51b7d\"],[0.2,\"#de77ae\"],[0.3,\"#f1b6da\"],[0.4,\"#fde0ef\"],[0.5,\"#f7f7f7\"],[0.6,\"#e6f5d0\"],[0.7,\"#b8e186\"],[0.8,\"#7fbc41\"],[0.9,\"#4d9221\"],[1,\"#276419\"]]},\"xaxis\":{\"gridcolor\":\"white\",\"linecolor\":\"white\",\"ticks\":\"\",\"title\":{\"standoff\":15},\"zerolinecolor\":\"white\",\"automargin\":true,\"zerolinewidth\":2},\"yaxis\":{\"gridcolor\":\"white\",\"linecolor\":\"white\",\"ticks\":\"\",\"title\":{\"standoff\":15},\"zerolinecolor\":\"white\",\"automargin\":true,\"zerolinewidth\":2},\"scene\":{\"xaxis\":{\"backgroundcolor\":\"#E5ECF6\",\"gridcolor\":\"white\",\"linecolor\":\"white\",\"showbackground\":true,\"ticks\":\"\",\"zerolinecolor\":\"white\",\"gridwidth\":2},\"yaxis\":{\"backgroundcolor\":\"#E5ECF6\",\"gridcolor\":\"white\",\"linecolor\":\"white\",\"showbackground\":true,\"ticks\":\"\",\"zerolinecolor\":\"white\",\"gridwidth\":2},\"zaxis\":{\"backgroundcolor\":\"#E5ECF6\",\"gridcolor\":\"white\",\"linecolor\":\"white\",\"showbackground\":true,\"ticks\":\"\",\"zerolinecolor\":\"white\",\"gridwidth\":2}},\"shapedefaults\":{\"line\":{\"color\":\"#2a3f5f\"}},\"annotationdefaults\":{\"arrowcolor\":\"#2a3f5f\",\"arrowhead\":0,\"arrowwidth\":1},\"geo\":{\"bgcolor\":\"white\",\"landcolor\":\"#E5ECF6\",\"subunitcolor\":\"white\",\"showland\":true,\"showlakes\":true,\"lakecolor\":\"white\"},\"title\":{\"x\":0.05},\"mapbox\":{\"style\":\"light\"}}},\"scene\":{\"domain\":{\"x\":[0.0,1.0],\"y\":[0.0,1.0]},\"xaxis\":{\"title\":{\"text\":\"X\"}},\"yaxis\":{\"title\":{\"text\":\"Y\"}},\"zaxis\":{\"title\":{\"text\":\"Z\"}}},\"legend\":{\"tracegroupgap\":0},\"title\":{\"text\":\"3D Scatter Plot\"}},                        {\"responsive\": true}                    ).then(function(){\n",
              "                            \n",
              "var gd = document.getElementById('71f8837a-cd1e-4df1-9038-952291db6fc8');\n",
              "var x = new MutationObserver(function (mutations, observer) {{\n",
              "        var display = window.getComputedStyle(gd).display;\n",
              "        if (!display || display === 'none') {{\n",
              "            console.log([gd, 'removed!']);\n",
              "            Plotly.purge(gd);\n",
              "            observer.disconnect();\n",
              "        }}\n",
              "}});\n",
              "\n",
              "// Listen for the removal of the full notebook cells\n",
              "var notebookContainer = gd.closest('#notebook-container');\n",
              "if (notebookContainer) {{\n",
              "    x.observe(notebookContainer, {childList: true});\n",
              "}}\n",
              "\n",
              "// Listen for the clearing of the current output cell\n",
              "var outputEl = gd.closest('.output');\n",
              "if (outputEl) {{\n",
              "    x.observe(outputEl, {childList: true});\n",
              "}}\n",
              "\n",
              "                        })                };                            </script>        </div>\n",
              "</body>\n",
              "</html>"
            ]
          },
          "metadata": {}
        }
      ]
    }
  ]
}